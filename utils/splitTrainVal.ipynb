{
 "cells": [
  {
   "cell_type": "code",
   "execution_count": 5,
   "metadata": {},
   "outputs": [],
   "source": [
    "from glob import glob\n",
    "\n",
    "import random\n",
    "import shutil"
   ]
  },
  {
   "cell_type": "code",
   "execution_count": 8,
   "metadata": {},
   "outputs": [
    {
     "name": "stdout",
     "output_type": "stream",
     "text": [
      "\n",
      " Length validation set is 10 \n",
      " Length training set is 40\n"
     ]
    }
   ],
   "source": [
    "#path of orginal images cropped\n",
    "files = glob(r'H:\\Aurélie\\Data\\ModelB\\Train\\Images\\*')\n",
    "filenames = [i.split('\\\\')[-1][8:] for i in files]\n",
    "random.shuffle(filenames)\n",
    "val = filenames[:10]\n",
    "train = filenames[10:]\n",
    "print('\\n Length validation set is', len(val), '\\n Length training set is', len(train))\n",
    "\n",
    "\n",
    "#Path of the split in 4 images and masks before augmentation\n",
    "img_path = r'C:\\Users\\A60026184\\Desktop\\ModelB\\DataCrop4\\Train\\Images'\n",
    "mask_path = r'C:\\Users\\A60026184\\Desktop\\ModelB\\DataCrop4\\Train\\Masks'\n",
    "\n",
    "#Path for outputs \n",
    "img_out = r'C:\\Users\\A60026184\\Desktop\\ModelB\\DataCrop4\\Test\\Images'\n",
    "mask_out = r'C:\\Users\\A60026184\\Desktop\\ModelB\\DataCrop4\\Test\\Masks'"
   ]
  },
  {
   "cell_type": "code",
   "execution_count": 5,
   "metadata": {},
   "outputs": [],
   "source": [
    "#Path of the split in 4 images and masks before augmentation\n",
    "img_path = r'C:\\Users\\A60026184\\Desktop\\ModelB\\DataCrop\\Train\\ImgMasked'\n",
    "mask_path = r'C:\\Users\\A60026184\\Desktop\\ModelB\\DataCrop\\Train\\Join'\n",
    "\n",
    "#Path for outputs \n",
    "img_out = r'C:\\Users\\A60026184\\Desktop\\ModelB\\DataCrop\\Test\\ImgMasked'\n",
    "mask_out = r'C:\\Users\\A60026184\\Desktop\\ModelB\\DataCrop\\Test\\Join'"
   ]
  },
  {
   "cell_type": "code",
   "execution_count": 9,
   "metadata": {},
   "outputs": [
    {
     "name": "stdout",
     "output_type": "stream",
     "text": [
      "Done moving 181009_Md_A_M16_1.JPG\n",
      "Done moving 180919_Pr_A_M01_2.JPG\n",
      "Done moving 190913_Pr_A_M20_2.JPG\n",
      "Done moving 20200924_Ch_A_MA3_3.JPG\n",
      "Done moving 181022_Md_A_M04_3.JPG\n",
      "Done moving 181010_Pr_D_M06_1.JPG\n",
      "Done moving 181015_Md_A_M07_2.JPG\n",
      "Done moving 190913_Pr_D_M20_4.JPG\n",
      "Done moving 20200924_Ch_D_MA4_2.JPG\n",
      "Done moving 181016_Pr_A_M08_3.JPG\n"
     ]
    }
   ],
   "source": [
    "for v in val:\n",
    "    img_in = glob(img_path + '\\\\*' + v)\n",
    "    mask_in = glob(mask_path+ '\\\\*' + v)\n",
    "    \n",
    "    for f in img_in:\n",
    "        img_target = img_out + '\\\\' + f.split('\\\\')[-1]\n",
    "        shutil.move(f, img_target)\n",
    "    for g in mask_in:\n",
    "        mask_target = mask_out + '\\\\' + g.split('\\\\')[-1]\n",
    "        shutil.move(g, mask_target)\n",
    "        \n",
    "    print('Done moving', v)"
   ]
  },
  {
   "cell_type": "code",
   "execution_count": null,
   "metadata": {},
   "outputs": [],
   "source": []
  }
 ],
 "metadata": {
  "kernelspec": {
   "display_name": "Python 3",
   "language": "python",
   "name": "python3"
  },
  "language_info": {
   "codemirror_mode": {
    "name": "ipython",
    "version": 3
   },
   "file_extension": ".py",
   "mimetype": "text/x-python",
   "name": "python",
   "nbconvert_exporter": "python",
   "pygments_lexer": "ipython3",
   "version": "3.8.10"
  }
 },
 "nbformat": 4,
 "nbformat_minor": 4
}
