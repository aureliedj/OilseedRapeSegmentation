{
 "cells": [
  {
   "cell_type": "code",
   "execution_count": 1,
   "metadata": {},
   "outputs": [],
   "source": [
    "import torch\n",
    "import numpy as np\n",
    "import matplotlib.pyplot as plt\n",
    "import pandas as pd\n",
    "from glob import glob\n",
    "from PIL import Image\n",
    "\n",
    "import torchvision.transforms as T\n",
    "\n",
    "# import augmenters from imgaug\n",
    "import imageio\n",
    "import imgaug as ia\n",
    "from imgaug import augmenters as iaa\n",
    "from imgaug.augmentables.segmaps import SegmentationMapOnImage, SegmentationMapsOnImage"
   ]
  },
  {
   "cell_type": "markdown",
   "metadata": {},
   "source": [
    "# Visualize predictions"
   ]
  },
  {
   "cell_type": "code",
   "execution_count": 2,
   "metadata": {},
   "outputs": [],
   "source": [
    "T_norm = T.Compose([T.ToTensor(), T.Normalize(mean=[0.485, 0.456, 0.406],\n",
    "                std=[0.229, 0.224, 0.225])])\n",
    "\n",
    "T_tensor = T.Compose([T.ToTensor()])\n",
    "device = torch.device(\"cuda:0\" if torch.cuda.is_available() else \"cpu\")\n",
    "\n",
    "def getPredict(a):\n",
    "    pred =a['out'].data.cpu().numpy()\n",
    "    return np.argmax(pred, axis=1)[0]\n",
    "\n",
    "def get_segment_labels(image, model, device, transform):\n",
    "    # transform the image to tensor and load into computation device\n",
    "    image = transform(image).to(device)\n",
    "    image = image.unsqueeze(0) # add a batch dimension\n",
    "    outputs = model(image)\n",
    "    return outputs\n",
    "\n",
    "# Convert mask to binary map\n",
    "def to3cat(mask):\n",
    "    mask[mask < 127] = 0\n",
    "    mask[mask >= 127] = 1\n",
    "    mask[mask[:, :, 1] > 0] = 2\n",
    "    mask = mask[:,:,0]\n",
    "    return mask\n",
    "\n",
    "def to2cat(mask):\n",
    "    mask[mask < 127] = 0\n",
    "    mask[mask >= 127] = 1\n",
    "    return mask"
   ]
  },
  {
   "cell_type": "code",
   "execution_count": 3,
   "metadata": {
    "scrolled": false
   },
   "outputs": [],
   "source": [
    "def makeSeg(image, mask):\n",
    "    segmap = np.zeros(image.shape, dtype=bool)\n",
    "    segmap[:,:,0] = mask\n",
    "    segmap = SegmentationMapOnImage(segmap, shape=image.shape)\n",
    "    \n",
    "    return segmap\n",
    "\n",
    "def makeSeg3(image, mask):\n",
    "    segmap = mask\n",
    "    segmap = SegmentationMapsOnImage(segmap, shape=image.shape)\n",
    "    \n",
    "    return segmap"
   ]
  },
  {
   "cell_type": "code",
   "execution_count": 22,
   "metadata": {},
   "outputs": [],
   "source": [
    "def reconstructIMG(imgs):\n",
    "    \n",
    "    myorder = [0, 7, 8, 9, 10, 11 ,12, 13, 14,15, 1, 2, 3, 4, 5, 6]\n",
    "    order_imgs = [np.array(imgs[i], dtype='uint8') for i in myorder]\n",
    "    order_imgs =imgs\n",
    "    \n",
    "    \n",
    "    if len(order_imgs[0].shape)==3:\n",
    "        new_img = np.zeros((1880,1120,3))\n",
    "        for i, m in enumerate(order_imgs):\n",
    "            if i <= 3:\n",
    "                new_img[i*470:i*470+470,:280,:] = m\n",
    "            if i > 3 and i <=7:\n",
    "                new_img[(i-4)*470:(i-4)*470+470,280:560,:] = m\n",
    "            if i > 7 and i <=11:\n",
    "                new_img[(i-8)*470:(i-8)*470+470,560:840,:] = m\n",
    "            if i > 11 and i <=15:\n",
    "                new_img[(i-12)*470:(i-12)*470+470,840:,:] = m\n",
    "    else:   \n",
    "        new_img = np.zeros((1880,1120))    \n",
    "        for i, m in enumerate(order_imgs):\n",
    "            if i <= 3:\n",
    "                new_img[i*470:i*470+470,:280] = m\n",
    "            if i > 3 and i <=7:\n",
    "                new_img[(i-4)*470:(i-4)*470+470,280:560] = m\n",
    "            if i > 7 and i <=11:\n",
    "                new_img[(i-8)*470:(i-8)*470+470,560:840] = m\n",
    "            if i > 11 and i <=15:\n",
    "                new_img[(i-12)*470:(i-12)*470+470,840:] = m\n",
    "    new_img = new_img.astype('uint8')\n",
    "    \n",
    "    return new_img\n",
    "\n",
    "def makeSeg(image, mask):\n",
    "    segmap = np.zeros(image.shape, dtype=bool)\n",
    "    if len(mask.shape)==3:\n",
    "        segmap[:,:,0] = mask[:,:,0]\n",
    "    else:\n",
    "        segmap[:,:,0] = mask\n",
    "    segmap = SegmentationMapOnImage(segmap, shape=image.shape)\n",
    "    \n",
    "    return segmap"
   ]
  },
  {
   "cell_type": "code",
   "execution_count": 20,
   "metadata": {},
   "outputs": [],
   "source": [
    "filepath = r'H:\\Aurélie\\Data\\ModelB\\Test\\Mixed\\ImgMasked'\n",
    "files = glob(filepath+'\\\\*.*')\n",
    "filenames = [f.split('\\\\')[-1] for f in files]\n",
    "\n",
    "img_path = r'C:\\Users\\A60026184\\Desktop\\ModelB\\Test\\Mixed\\ImgMasked'\n",
    "msk_path = r'C:\\Users\\A60026184\\Desktop\\ModelB\\Test\\Mixed\\Join'\n",
    "\n",
    "gt_path= r'H:\\Aurélie\\Predictions\\ModelB\\Images\\gt\\Mixed'\n",
    "pred_path = r'H:\\Aurélie\\Predictions\\ModelB\\Images\\pred\\B1\\Mixed'"
   ]
  },
  {
   "cell_type": "code",
   "execution_count": 16,
   "metadata": {},
   "outputs": [
    {
     "data": {
      "text/plain": [
       "['180919_Pr_A_M16_1.jpg',\n",
       " '180919_Pr_D_M12_2.jpg',\n",
       " '180926_Md_A_M10_1.jpg',\n",
       " '180926_Pr_A_M11_2.jpg',\n",
       " '181010_Pr_D_M19_3.jpg',\n",
       " '181015_Md_A_M17_2.jpg',\n",
       " '181016_Pr_D_M13_2.jpg',\n",
       " '190913_Pr_A_M11_4.jpg',\n",
       " '190913_Pr_D_M12_4.jpg',\n",
       " '190927_Pr_D_M15_2.jpg']"
      ]
     },
     "execution_count": 16,
     "metadata": {},
     "output_type": "execute_result"
    }
   ],
   "source": [
    "filenames"
   ]
  },
  {
   "cell_type": "code",
   "execution_count": 6,
   "metadata": {},
   "outputs": [
    {
     "name": "stdout",
     "output_type": "stream",
     "text": [
      "DONE Loading models...\n"
     ]
    }
   ],
   "source": [
    "# Load the models\n",
    "ModelA = torch.load(r'C:\\Users\\A60026184\\Desktop\\ModelA\\Results\\weights_Aaug5_v1.pt')\n",
    "ModelA.eval()\n",
    "\n",
    "ModelB = torch.load(r'C:\\Users\\A60026184\\Desktop\\ModelB\\Results\\weights_cascBaug5_v1.pt')\n",
    "ModelB.eval()\n",
    "\n",
    "print('DONE Loading models...')"
   ]
  },
  {
   "cell_type": "markdown",
   "metadata": {},
   "source": [
    "## Model A"
   ]
  },
  {
   "cell_type": "code",
   "execution_count": 23,
   "metadata": {},
   "outputs": [
    {
     "name": "stdout",
     "output_type": "stream",
     "text": [
      "180919_Pr_A_M16_1.jpg\n",
      "['C:\\\\Users\\\\A60026184\\\\Desktop\\\\ModelB\\\\Test\\\\Mixed\\\\ImgMasked\\\\00_180919_Pr_A_M16_1.jpg', 'C:\\\\Users\\\\A60026184\\\\Desktop\\\\ModelB\\\\Test\\\\Mixed\\\\ImgMasked\\\\01_180919_Pr_A_M16_1.jpg', 'C:\\\\Users\\\\A60026184\\\\Desktop\\\\ModelB\\\\Test\\\\Mixed\\\\ImgMasked\\\\02_180919_Pr_A_M16_1.jpg', 'C:\\\\Users\\\\A60026184\\\\Desktop\\\\ModelB\\\\Test\\\\Mixed\\\\ImgMasked\\\\03_180919_Pr_A_M16_1.jpg', 'C:\\\\Users\\\\A60026184\\\\Desktop\\\\ModelB\\\\Test\\\\Mixed\\\\ImgMasked\\\\04_180919_Pr_A_M16_1.jpg', 'C:\\\\Users\\\\A60026184\\\\Desktop\\\\ModelB\\\\Test\\\\Mixed\\\\ImgMasked\\\\05_180919_Pr_A_M16_1.jpg', 'C:\\\\Users\\\\A60026184\\\\Desktop\\\\ModelB\\\\Test\\\\Mixed\\\\ImgMasked\\\\06_180919_Pr_A_M16_1.jpg', 'C:\\\\Users\\\\A60026184\\\\Desktop\\\\ModelB\\\\Test\\\\Mixed\\\\ImgMasked\\\\07_180919_Pr_A_M16_1.jpg', 'C:\\\\Users\\\\A60026184\\\\Desktop\\\\ModelB\\\\Test\\\\Mixed\\\\ImgMasked\\\\08_180919_Pr_A_M16_1.jpg', 'C:\\\\Users\\\\A60026184\\\\Desktop\\\\ModelB\\\\Test\\\\Mixed\\\\ImgMasked\\\\09_180919_Pr_A_M16_1.jpg', 'C:\\\\Users\\\\A60026184\\\\Desktop\\\\ModelB\\\\Test\\\\Mixed\\\\ImgMasked\\\\10_180919_Pr_A_M16_1.jpg', 'C:\\\\Users\\\\A60026184\\\\Desktop\\\\ModelB\\\\Test\\\\Mixed\\\\ImgMasked\\\\11_180919_Pr_A_M16_1.jpg', 'C:\\\\Users\\\\A60026184\\\\Desktop\\\\ModelB\\\\Test\\\\Mixed\\\\ImgMasked\\\\12_180919_Pr_A_M16_1.jpg', 'C:\\\\Users\\\\A60026184\\\\Desktop\\\\ModelB\\\\Test\\\\Mixed\\\\ImgMasked\\\\13_180919_Pr_A_M16_1.jpg', 'C:\\\\Users\\\\A60026184\\\\Desktop\\\\ModelB\\\\Test\\\\Mixed\\\\ImgMasked\\\\14_180919_Pr_A_M16_1.jpg', 'C:\\\\Users\\\\A60026184\\\\Desktop\\\\ModelB\\\\Test\\\\Mixed\\\\ImgMasked\\\\15_180919_Pr_A_M16_1.jpg']\n"
     ]
    },
    {
     "ename": "AttributeError",
     "evalue": "shape",
     "output_type": "error",
     "traceback": [
      "\u001b[1;31m---------------------------------------------------------------------------\u001b[0m",
      "\u001b[1;31mAttributeError\u001b[0m                            Traceback (most recent call last)",
      "\u001b[1;32m<ipython-input-23-9974363953a5>\u001b[0m in \u001b[0;36m<module>\u001b[1;34m\u001b[0m\n\u001b[0;32m     24\u001b[0m \u001b[1;33m\u001b[0m\u001b[0m\n\u001b[0;32m     25\u001b[0m     \u001b[1;31m# use imageio library to read the image (alternatively you can use OpenCV cv2.imread() function)\u001b[0m\u001b[1;33m\u001b[0m\u001b[1;33m\u001b[0m\u001b[1;33m\u001b[0m\u001b[0m\n\u001b[1;32m---> 26\u001b[1;33m     \u001b[0mfull_image\u001b[0m \u001b[1;33m=\u001b[0m \u001b[0mreconstructIMG\u001b[0m\u001b[1;33m(\u001b[0m\u001b[0mimages\u001b[0m\u001b[1;33m)\u001b[0m\u001b[1;33m\u001b[0m\u001b[1;33m\u001b[0m\u001b[0m\n\u001b[0m\u001b[0;32m     27\u001b[0m     \u001b[0mfull_mask\u001b[0m \u001b[1;33m=\u001b[0m \u001b[0mreconstructIMG\u001b[0m\u001b[1;33m(\u001b[0m\u001b[0mmasks\u001b[0m\u001b[1;33m)\u001b[0m\u001b[1;33m\u001b[0m\u001b[1;33m\u001b[0m\u001b[0m\n\u001b[0;32m     28\u001b[0m     \u001b[0mfull_mask\u001b[0m \u001b[1;33m=\u001b[0m \u001b[0mto2cat\u001b[0m\u001b[1;33m(\u001b[0m\u001b[0mfull_mask\u001b[0m\u001b[1;33m)\u001b[0m\u001b[1;33m\u001b[0m\u001b[1;33m\u001b[0m\u001b[0m\n",
      "\u001b[1;32m<ipython-input-22-eaa545503338>\u001b[0m in \u001b[0;36mreconstructIMG\u001b[1;34m(imgs)\u001b[0m\n\u001b[0;32m      6\u001b[0m \u001b[1;33m\u001b[0m\u001b[0m\n\u001b[0;32m      7\u001b[0m \u001b[1;33m\u001b[0m\u001b[0m\n\u001b[1;32m----> 8\u001b[1;33m     \u001b[1;32mif\u001b[0m \u001b[0mlen\u001b[0m\u001b[1;33m(\u001b[0m\u001b[0morder_imgs\u001b[0m\u001b[1;33m[\u001b[0m\u001b[1;36m0\u001b[0m\u001b[1;33m]\u001b[0m\u001b[1;33m.\u001b[0m\u001b[0mshape\u001b[0m\u001b[1;33m)\u001b[0m\u001b[1;33m==\u001b[0m\u001b[1;36m3\u001b[0m\u001b[1;33m:\u001b[0m\u001b[1;33m\u001b[0m\u001b[1;33m\u001b[0m\u001b[0m\n\u001b[0m\u001b[0;32m      9\u001b[0m         \u001b[0mnew_img\u001b[0m \u001b[1;33m=\u001b[0m \u001b[0mnp\u001b[0m\u001b[1;33m.\u001b[0m\u001b[0mzeros\u001b[0m\u001b[1;33m(\u001b[0m\u001b[1;33m(\u001b[0m\u001b[1;36m1880\u001b[0m\u001b[1;33m,\u001b[0m\u001b[1;36m1120\u001b[0m\u001b[1;33m,\u001b[0m\u001b[1;36m3\u001b[0m\u001b[1;33m)\u001b[0m\u001b[1;33m)\u001b[0m\u001b[1;33m\u001b[0m\u001b[1;33m\u001b[0m\u001b[0m\n\u001b[0;32m     10\u001b[0m         \u001b[1;32mfor\u001b[0m \u001b[0mi\u001b[0m\u001b[1;33m,\u001b[0m \u001b[0mm\u001b[0m \u001b[1;32min\u001b[0m \u001b[0menumerate\u001b[0m\u001b[1;33m(\u001b[0m\u001b[0morder_imgs\u001b[0m\u001b[1;33m)\u001b[0m\u001b[1;33m:\u001b[0m\u001b[1;33m\u001b[0m\u001b[1;33m\u001b[0m\u001b[0m\n",
      "\u001b[1;32m~\\Anaconda3\\envs\\colza\\lib\\site-packages\\PIL\\Image.py\u001b[0m in \u001b[0;36m__getattr__\u001b[1;34m(self, name)\u001b[0m\n\u001b[0;32m    539\u001b[0m             )\n\u001b[0;32m    540\u001b[0m             \u001b[1;32mreturn\u001b[0m \u001b[0mself\u001b[0m\u001b[1;33m.\u001b[0m\u001b[0m_category\u001b[0m\u001b[1;33m\u001b[0m\u001b[1;33m\u001b[0m\u001b[0m\n\u001b[1;32m--> 541\u001b[1;33m         \u001b[1;32mraise\u001b[0m \u001b[0mAttributeError\u001b[0m\u001b[1;33m(\u001b[0m\u001b[0mname\u001b[0m\u001b[1;33m)\u001b[0m\u001b[1;33m\u001b[0m\u001b[1;33m\u001b[0m\u001b[0m\n\u001b[0m\u001b[0;32m    542\u001b[0m \u001b[1;33m\u001b[0m\u001b[0m\n\u001b[0;32m    543\u001b[0m     \u001b[1;33m@\u001b[0m\u001b[0mproperty\u001b[0m\u001b[1;33m\u001b[0m\u001b[1;33m\u001b[0m\u001b[0m\n",
      "\u001b[1;31mAttributeError\u001b[0m: shape"
     ]
    }
   ],
   "source": [
    "for f in filenames:\n",
    "    \n",
    "    images, masks = [], []\n",
    "    preds_a, preds_b = [], []\n",
    "    name = []\n",
    "    \n",
    "    print(f)\n",
    "    \n",
    "    img_files = glob(img_path+'\\\\*'+f)\n",
    "    msk_files = glob(msk_path+'\\\\*'+f)\n",
    "    \n",
    "    print(img_files)\n",
    "\n",
    "    for i, m in enumerate(img_files):\n",
    "        name.append(m.split('\\\\')[-1].split('_')[0])\n",
    "        # read the image\n",
    "        image = Image.open(m)\n",
    "        images.append(image)\n",
    "        # Read  a sample image and mask from the data-set\n",
    "        masks.append(np.array(Image.open(msk_files[i])))\n",
    "        #Get prediction \n",
    "        a = get_segment_labels(image, ModelA, device, T_norm)\n",
    "        preds_a.append(getPredict(a))\n",
    "\n",
    "    # use imageio library to read the image (alternatively you can use OpenCV cv2.imread() function)\n",
    "    full_image = reconstructIMG(images)\n",
    "    full_mask = reconstructIMG(masks)\n",
    "    full_mask = to2cat(full_mask)\n",
    "    pred_a = reconstructIMG(preds_a)\n",
    "\n",
    "    gt = makeSeg(full_image, full_mask)\n",
    "    res = makeSeg(full_image, pred_a)\n",
    "\n",
    "    img_gt = gt.draw_on_image(full_image)[0]\n",
    "    img_res = res.draw_on_image(full_image)[0]\n",
    "\n",
    "    #--------------- SHOW THE RESULTS\n",
    "    #results=[]\n",
    "    #results.append(res_a.draw_on_image(full_image)[0])\n",
    "    #ia.imshow(ia.draw_grid(results, cols=1))\n",
    "\n",
    "    #--------------- SAVE THE RESULTS\n",
    "    imageio.imwrite(gt_path+'\\\\'+f, img_gt)\n",
    "    imageio.imwrite(pred_path+'\\\\'+f, img_res)"
   ]
  },
  {
   "cell_type": "markdown",
   "metadata": {},
   "source": [
    "## Model B"
   ]
  },
  {
   "cell_type": "code",
   "execution_count": 21,
   "metadata": {},
   "outputs": [
    {
     "name": "stdout",
     "output_type": "stream",
     "text": [
      "180919_Pr_A_M16_1.jpg\n",
      "180919_Pr_D_M12_2.jpg\n",
      "180926_Md_A_M10_1.jpg\n",
      "180926_Pr_A_M11_2.jpg\n",
      "181010_Pr_D_M19_3.jpg\n",
      "181015_Md_A_M17_2.jpg\n",
      "181016_Pr_D_M13_2.jpg\n",
      "190913_Pr_A_M11_4.jpg\n",
      "190913_Pr_D_M12_4.jpg\n",
      "190927_Pr_D_M15_2.jpg\n"
     ]
    }
   ],
   "source": [
    "for f in filenames:\n",
    "    \n",
    "    images, masks = [], []\n",
    "    preds_b = []\n",
    "    name = []\n",
    "    \n",
    "    print(f)\n",
    "    \n",
    "    img_files = glob(img_path+'\\\\*'+f)\n",
    "    msk_files = glob(msk_path+'\\\\*'+f)\n",
    "\n",
    "    for i, m in enumerate(img_files):\n",
    "        # read the image\n",
    "        image = Image.open(m)\n",
    "        images.append(image)\n",
    "        # Read  a sample image and mask from the data-set\n",
    "        masks.append(np.array(Image.open(msk_files[i])))\n",
    "\n",
    "        #Get prediction \n",
    "        b = get_segment_labels(image, ModelB, device, T_norm)\n",
    "        preds_b.append(getPredict(b))\n",
    "\n",
    "    # use imageio library to read the image (alternatively you can use OpenCV cv2.imread() function)\n",
    "    full_image = reconstructIMG(images)\n",
    "    full_mask = reconstructIMG(masks)\n",
    "    full_mask = to3cat(full_mask)\n",
    "    pred_b = reconstructIMG(preds_b)\n",
    "\n",
    "    gt = makeSeg3(full_image, full_mask)\n",
    "    res = makeSeg3(full_image, pred_b)\n",
    "\n",
    "    img_gt = gt.draw_on_image(full_image)[0]\n",
    "    img_res = res.draw_on_image(full_image)[0]\n",
    "\n",
    "    #--------------- SHOW THE RESULTS\n",
    "    #results=[]\n",
    "    #results.append(gt.draw_on_image(full_image)[0])\n",
    "    #ia.imshow(ia.draw_grid(results, cols=1))\n",
    "\n",
    "    #--------------- SAVE THE RESULTS\n",
    "    imageio.imwrite(gt_path+'\\\\'+f, img_gt)\n",
    "    imageio.imwrite(pred_path+'\\\\'+f, img_res)"
   ]
  },
  {
   "cell_type": "code",
   "execution_count": null,
   "metadata": {},
   "outputs": [],
   "source": []
  }
 ],
 "metadata": {
  "kernelspec": {
   "display_name": "Python 3",
   "language": "python",
   "name": "python3"
  },
  "language_info": {
   "codemirror_mode": {
    "name": "ipython",
    "version": 3
   },
   "file_extension": ".py",
   "mimetype": "text/x-python",
   "name": "python",
   "nbconvert_exporter": "python",
   "pygments_lexer": "ipython3",
   "version": "3.8.10"
  }
 },
 "nbformat": 4,
 "nbformat_minor": 5
}
