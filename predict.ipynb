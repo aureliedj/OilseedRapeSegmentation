{
 "cells": [
  {
   "cell_type": "code",
   "execution_count": 1,
   "metadata": {},
   "outputs": [],
   "source": [
    "import torch\n",
    "from glob import glob\n",
    "import numpy as np\n",
    "import matplotlib.pyplot as plt\n",
    "import pandas as pd\n",
    "from PIL import Image"
   ]
  },
  {
   "cell_type": "code",
   "execution_count": 2,
   "metadata": {},
   "outputs": [],
   "source": [
    "import torchvision.transforms as T\n",
    "\n",
    "T_norm = T.Compose([\n",
    "    T.ToTensor(),\n",
    "    T.Normalize(mean=[0.485, 0.456, 0.406],\n",
    "                std=[0.229, 0.224, 0.225])\n",
    "])\n",
    "\n",
    "T_tensor = T.Compose([\n",
    "    T.ToTensor()\n",
    "])\n",
    "\n",
    "device = torch.device(\"cuda:0\" if torch.cuda.is_available() else \"cpu\")\n",
    "\n",
    "def getPredict(a):\n",
    "    pred =a['out'].data.cpu().numpy()\n",
    "    return np.argmax(pred, axis=1)[0]\n",
    "\n",
    "def get_segment_labels(image, model, device, transform):\n",
    "    # transform the image to tensor and load into computation device\n",
    "    image = transform(image).to(device)\n",
    "    image = image.unsqueeze(0) # add a batch dimension\n",
    "    outputs = model(image)\n",
    "    return outputs\n",
    "\n",
    "def getPourcentage(a):\n",
    "    return np.sum(a)/(a.shape[0]*a.shape[1])"
   ]
  },
  {
   "cell_type": "code",
   "execution_count": 3,
   "metadata": {},
   "outputs": [
    {
     "name": "stdout",
     "output_type": "stream",
     "text": [
      "DONE Loading models...\n"
     ]
    }
   ],
   "source": [
    "# Load the trained model \n",
    "model = torch.load(r'C:\\Users\\A60026184\\Desktop\\ModelA\\Results\\weights_Aaug5_v1.pt')\n",
    "model.eval()\n",
    "\n",
    "print('DONE Loading models...')"
   ]
  },
  {
   "cell_type": "code",
   "execution_count": 8,
   "metadata": {},
   "outputs": [],
   "source": [
    "img_files = glob(r'C:\\Users\\A60026184\\Desktop\\ModelA\\Todo\\*.*')\n",
    "outpath = r'E:\\Aurélie'"
   ]
  },
  {
   "cell_type": "code",
   "execution_count": 6,
   "metadata": {
    "scrolled": true
   },
   "outputs": [],
   "source": [
    "p_pred = []\n",
    "name = []\n",
    "\n",
    "for f in img_files:\n",
    "    filename = f.split('\\\\')[-1]\n",
    "    fichier = filename.split('.')[0][3:]\n",
    "    \n",
    "    name.append(fichier)\n",
    "    \n",
    "    # read the image\n",
    "    image = Image.open(f)\n",
    "    result = get_segment_labels(image, model, device, T_norm)\n",
    "    pred = getPredict(result)\n",
    "    \n",
    "    p_pred.append(getPourcentage(pred))"
   ]
  },
  {
   "cell_type": "code",
   "execution_count": 9,
   "metadata": {},
   "outputs": [],
   "source": [
    "import pandas as pd\n",
    "df_pred = pd.DataFrame(p_pred, columns= ['Predictions'])\n",
    "df_name = pd.DataFrame(name, columns=['filename'])\n",
    "\n",
    "df = df_name.join(df_pred)\n",
    "df = df.groupby(['filename']).mean().reset_index()\n",
    "df.to_csv(outpath+'\\\\Todo_predA.csv')"
   ]
  },
  {
   "cell_type": "code",
   "execution_count": null,
   "metadata": {},
   "outputs": [],
   "source": []
  }
 ],
 "metadata": {
  "kernelspec": {
   "display_name": "Python 3",
   "language": "python",
   "name": "python3"
  },
  "language_info": {
   "codemirror_mode": {
    "name": "ipython",
    "version": 3
   },
   "file_extension": ".py",
   "mimetype": "text/x-python",
   "name": "python",
   "nbconvert_exporter": "python",
   "pygments_lexer": "ipython3",
   "version": "3.8.10"
  }
 },
 "nbformat": 4,
 "nbformat_minor": 4
}
